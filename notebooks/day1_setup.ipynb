{
 "cells": [
  {
   "cell_type": "code",
   "execution_count": null,
   "id": "13146e84",
   "metadata": {},
   "outputs": [],
   "source": [
    "import os   #file and directory manipulation\n",
    "import urllib.request   #fetching URLs\n",
    "import tarfile  #read and write. compress and decompress .tar .tar.gz files"
   ]
  },
  {
   "cell_type": "code",
   "execution_count": null,
   "id": "1a97d077",
   "metadata": {},
   "outputs": [
    {
     "name": "stdout",
     "output_type": "stream",
     "text": [
      "⬇️ Downloading Pascal VOC 2012 from Kaggle...\n",
      "✅ Download complete!\n",
      "📂 Extracting...\n",
      "✅ Extraction complete!\n"
     ]
    }
   ],
   "source": [
    "##Download Data\n",
    "import zipfile\n",
    "import subprocess\n",
    "\n",
    "# Make sure data dir exists\n",
    "os.makedirs(\"data\", exist_ok=True)\n",
    "\n",
    "# Dataset name on Kaggle\n",
    "dataset = \"huanghanchina/pascal-voc-2012\"\n",
    "zip_path = \"data/pascal-voc-2012.zip\"\n",
    "extract_path = \"data/\"\n",
    "\n",
    "# Step 1: Download via Kaggle API if not already present\n",
    "if not os.path.exists(zip_path):\n",
    "    print(\"Downloading Pascal VOC 2012 from Kaggle...\")\n",
    "    subprocess.run([\"kaggle\", \"datasets\", \"download\", \"-d\", dataset, \"-p\", \"data/\"])\n",
    "    print(\"Download complete!\")\n",
    "else:\n",
    "    print(\"Zip already exists, skipping download.\")\n",
    "\n",
    "# Step 2: Extract if not already extracted\n",
    "voc_folder = os.path.join(extract_path, \"VOCdevkit\")\n",
    "if not os.path.exists(voc_folder):\n",
    "    print(\"Extracting...\")\n",
    "    with zipfile.ZipFile(zip_path, \"r\") as zip_ref:\n",
    "        zip_ref.extractall(extract_path)\n",
    "    print(\"Extraction complete!\")\n",
    "else:\n",
    "    print(\"VOC 2012 already extracted.\")"
   ]
  },
  {
   "cell_type": "code",
   "execution_count": null,
   "id": "d38f50eb",
   "metadata": {},
   "outputs": [],
   "source": [
    "##Verify Data\n",
    "# Paths\n",
    "voc2012_path = \"data/VOCdevkit/VOC2012/JPEGImages\"\n",
    "voc2012_ann_path = \"data/VOCdevkit/VOC2012/Annotations\"\n",
    "\n",
    "# Count how many images and annotations we have\n",
    "num_images = len([f for f in os.listdir(voc2012_path) if f.endswith(\".jpg\")])\n",
    "num_annots = len([f for f in os.listdir(voc2012_ann_path) if f.endswith(\".xml\")])\n",
    "\n",
    "print(f\"✅ Found {num_images} images in JPEGImages/\")\n",
    "print(f\"✅ Found {num_annots} annotation files in Annotations/\")\n",
    "\n",
    "# Show a few sample filenames\n",
    "print(\"\\n🔍 Sample image files:\")\n",
    "for f in os.listdir(voc2012_path)[:5]:\n",
    "    print(\" -\", f)"
   ]
  },
  {
   "cell_type": "code",
   "execution_count": null,
   "id": "c433bd8a",
   "metadata": {},
   "outputs": [],
   "source": [
    "import matplotlib.pyplot as plt\n",
    "import matplotlib.patches as patches\n",
    "from PIL import Image\n",
    "import xml.etree.ElementTree as ET\n",
    "\n",
    "# Paths\n",
    "voc2012_img_path = \"data/VOCdevkit/VOC2012/JPEGImages\"\n",
    "voc2012_ann_path = \"data/VOCdevkit/VOC2012/Annotations\"\n",
    "\n",
    "# Count how many images and annotations we have\n",
    "num_images = len([f for f in os.listdir(voc2012_img_path) if f.endswith(\".jpg\")])\n",
    "num_annots = len([f for f in os.listdir(voc2012_ann_path) if f.endswith(\".xml\")])\n",
    "\n",
    "print(f\"✅ Found {num_images} images in JPEGImages/\")\n",
    "print(f\"✅ Found {num_annots} annotation files in Annotations/\")\n",
    "\n",
    "# Pick a sample image\n",
    "sample_file = [f for f in os.listdir(voc2012_img_path) if f.endswith(\".jpg\")][0]\n",
    "sample_img_path = os.path.join(voc2012_path, sample_file)\n",
    "\n",
    "print(f\"\\n🔍 Displaying sample image: {sample_file}\")\n",
    "img = Image.open(sample_img_path)\n",
    "\n",
    "plt.imshow(img)\n",
    "plt.axis(\"off\")\n",
    "plt.show()"
   ]
  },
  {
   "cell_type": "code",
   "execution_count": null,
   "id": "59e247b3",
   "metadata": {},
   "outputs": [],
   "source": [
    "# Find the corresponding annotation (same basename, but .xml)\n",
    "sample_ann_path = os.path.join(\n",
    "    voc2012_ann_path,\n",
    "    os.path.splitext(sample_file)[0] + \".xml\"\n",
    ")\n",
    "\n",
    "# Load image\n",
    "img = Image.open(sample_img_path)\n",
    "fig, ax = plt.subplots(1, figsize=(8, 8))\n",
    "ax.imshow(img)\n",
    "\n",
    "# Parse XML annotation\n",
    "tree = ET.parse(sample_ann_path)\n",
    "root = tree.getroot()\n",
    "\n",
    "# Loop over each object in annotation\n",
    "for obj in root.findall(\"object\"):\n",
    "    label = obj.find(\"name\").text\n",
    "    bbox = obj.find(\"bndbox\")\n",
    "    xmin = int(bbox.find(\"xmin\").text)\n",
    "    ymin = int(bbox.find(\"ymin\").text)\n",
    "    xmax = int(bbox.find(\"xmax\").text)\n",
    "    ymax = int(bbox.find(\"ymax\").text)\n",
    "\n",
    "    # Draw bounding box\n",
    "    rect = patches.Rectangle((xmin, ymin), xmax - xmin, ymax - ymin,\n",
    "                             linewidth=2, edgecolor=\"r\", facecolor=\"none\")\n",
    "    ax.add_patch(rect)\n",
    "\n",
    "    # Add label\n",
    "    ax.text(xmin, ymin - 5, label, color=\"red\", fontsize=12,\n",
    "            bbox=dict(facecolor=\"white\", alpha=0.7))\n",
    "\n",
    "plt.axis(\"off\")\n",
    "plt.show()"
   ]
  }
 ],
 "metadata": {
  "kernelspec": {
   "display_name": "pascalvoc",
   "language": "python",
   "name": "python3"
  },
  "language_info": {
   "codemirror_mode": {
    "name": "ipython",
    "version": 3
   },
   "file_extension": ".py",
   "mimetype": "text/x-python",
   "name": "python",
   "nbconvert_exporter": "python",
   "pygments_lexer": "ipython3",
   "version": "3.10.18"
  }
 },
 "nbformat": 4,
 "nbformat_minor": 5
}
