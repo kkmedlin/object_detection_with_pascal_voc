{
 "cells": [
  {
   "cell_type": "code",
   "execution_count": 9,
   "id": "50f95699",
   "metadata": {},
   "outputs": [],
   "source": [
    "\n",
    "import torch\n",
    "import torch.nn as nn\n",
    "import torch.optim as optim\n",
    "from torch.utils.data import DataLoader\n",
    "import torchvision\n",
    "from torchvision import transforms, models, datasets\n",
    "from torchvision.models import resnet50, ResNet50_Weights\n",
    "import matplotlib.pyplot as plt\n",
    "from sklearn.metrics import roc_auc_score, multilabel_confusion_matrix, roc_curve, auc\n",
    "import numpy as np\n",
    "import os\n",
    "\n"
   ]
  },
  {
   "cell_type": "code",
   "execution_count": 15,
   "id": "6bc138c7",
   "metadata": {},
   "outputs": [],
   "source": [
    "\n",
    "\n",
    "########################################\n",
    "# 1. Hyperparameters\n",
    "########################################\n",
    "BATCH_SIZE = 8\n",
    "LR = 0.001\n",
    "EPOCHS = 2\n",
    "NUM_CLASSES = 20   # Pascal VOC has 20 classes\n",
    "\n",
    "########################################\n",
    "# 2. Transforms\n",
    "########################################\n",
    "transform = transforms.Compose([\n",
    "    transforms.Resize((224, 224)),  # resize for ResNet50\n",
    "    transforms.ToTensor(),\n",
    "    transforms.Normalize(mean=[0.485, 0.456, 0.406],\n",
    "                         std=[0.229, 0.224, 0.225]) # ImageNet normalization\n",
    "])\n",
    "\n",
    "########################################\n",
    "# 3. Multi-label target encoding\n",
    "########################################\n",
    "VOC_CLASSES = [\n",
    "    'aeroplane', 'bicycle', 'bird', 'boat', 'bottle', 'bus',\n",
    "    'car', 'cat', 'chair', 'cow', 'diningtable', 'dog', 'horse',\n",
    "    'motorbike', 'person', 'pottedplant', 'sheep', 'sofa', 'train',\n",
    "    'tvmonitor'\n",
    "]\n",
    "\n",
    "def encode_voc_target(target):\n",
    "    \"\"\"Converts VOC annotation to multi-hot vector for 20 classes\"\"\"\n",
    "    objects = target['annotation'].get('object', [])\n",
    "    if not isinstance(objects, list):\n",
    "        objects = [objects]  # single object case\n",
    "    labels = [0] * NUM_CLASSES\n",
    "    for obj in objects:\n",
    "        if obj['name'] in VOC_CLASSES:\n",
    "            idx = VOC_CLASSES.index(obj['name'])\n",
    "            labels[idx] = 1\n",
    "    return torch.tensor(labels, dtype=torch.float32)\n",
    "\n",
    "########################################\n",
    "# 4. Dataset & Dataloader\n",
    "########################################\n",
    "repo_root = \"C:/Users/kamed/Desktop/argonne_K/pascal-voc-project\"\n",
    "voc_root = os.path.join(repo_root, \"VOCdevkit\")  # parent of VOC2012\n",
    "\n",
    "train_dataset = torchvision.datasets.VOCDetection(\n",
    "    root=repo_root,\n",
    "    year=\"2012\",\n",
    "    image_set=\"train\",\n",
    "    download=False,\n",
    "    transform=transform,\n",
    "    target_transform=encode_voc_target\n",
    ")\n",
    "\n",
    "val_dataset = torchvision.datasets.VOCDetection(\n",
    "    root=repo_root,\n",
    "    year=\"2012\",\n",
    "    image_set=\"val\",\n",
    "    download=False,\n",
    "    transform=transform,\n",
    "    target_transform=encode_voc_target\n",
    ")\n",
    "\n",
    "# Only use first 200 images for CPU testing\n",
    "#train_dataset = torch.utils.data.Subset(train_dataset, list(range(200)))\n",
    "#val_dataset = torch.utils.data.Subset(val_dataset, list(range(50)))\n",
    "\n",
    "train_loader = DataLoader(train_dataset, batch_size=BATCH_SIZE, shuffle=True, num_workers=0, pin_memory=False)\n",
    "val_loader = DataLoader(val_dataset, batch_size=BATCH_SIZE, shuffle=False, num_workers=0, pin_memory=False)"
   ]
  },
  {
   "cell_type": "code",
   "execution_count": 16,
   "id": "7db607e8",
   "metadata": {},
   "outputs": [
    {
     "name": "stdout",
     "output_type": "stream",
     "text": [
      "model ready\n"
     ]
    },
    {
     "data": {
      "text/plain": [
       "'\\nmodel = models.resnet50(pretrained=True)\\nfor param in model.parameters():\\n    param.requires_grad = False   # freeze feature extractor\\n\\n# Replace final layer for 20-class multi-label classification\\nmodel.fc = nn.Sequential(\\n    nn.Linear(model.fc.in_features, NUM_CLASSES),\\n    nn.Sigmoid()   # since multi-label, we need sigmoid not softmax\\n)\\n\\ndevice = torch.device(\"cuda\" if torch.cuda.is_available() else \"cpu\")\\nmodel = model.to(device)\\n'"
      ]
     },
     "execution_count": 16,
     "metadata": {},
     "output_type": "execute_result"
    }
   ],
   "source": [
    "########################################\n",
    "# 4. Model (ResNet50 with transfer learning)\n",
    "########################################\n",
    "\n",
    "model = models.resnet18(weights=models.ResNet18_Weights.IMAGENET1K_V1)\n",
    "for param in model.parameters():\n",
    "    param.requires_grad = False\n",
    "\n",
    "model.fc = nn.Sequential(\n",
    "    nn.Linear(model.fc.in_features, NUM_CLASSES),\n",
    "    nn.Sigmoid()\n",
    ")\n",
    "\n",
    "device = torch.device(\"cpu\")  # force CPU\n",
    "model = model.to(device)\n",
    "print(\"model ready\")\n",
    "'''\n",
    "model = models.resnet50(pretrained=True)\n",
    "for param in model.parameters():\n",
    "    param.requires_grad = False   # freeze feature extractor\n",
    "\n",
    "# Replace final layer for 20-class multi-label classification\n",
    "model.fc = nn.Sequential(\n",
    "    nn.Linear(model.fc.in_features, NUM_CLASSES),\n",
    "    nn.Sigmoid()   # since multi-label, we need sigmoid not softmax\n",
    ")\n",
    "\n",
    "device = torch.device(\"cuda\" if torch.cuda.is_available() else \"cpu\")\n",
    "model = model.to(device)\n",
    "'''"
   ]
  },
  {
   "cell_type": "code",
   "execution_count": 17,
   "id": "bdf68d5e",
   "metadata": {},
   "outputs": [],
   "source": [
    "########################################\n",
    "# 5. Loss & Optimizer\n",
    "########################################\n",
    "criterion = nn.BCELoss()  # binary cross entropy for multi-label\n",
    "optimizer = optim.Adam(model.fc.parameters(), lr=LR)\n",
    "\n",
    "########################################\n",
    "# 6. Training Loop\n",
    "########################################\n",
    "def train_one_epoch(model, loader, optimizer, criterion):\n",
    "    model.train()\n",
    "    running_loss = 0.0\n",
    "    for images, targets in loader:\n",
    "        images, targets = images.to(device), targets.float().to(device)\n",
    "        optimizer.zero_grad()\n",
    "        outputs = model(images)\n",
    "        loss = criterion(outputs, targets)\n",
    "        loss.backward()\n",
    "        optimizer.step()\n",
    "        running_loss += loss.item()\n",
    "    return running_loss / len(loader)\n",
    "\n",
    "########################################\n",
    "# 7. Validation (ROC, Confusion Matrix)\n",
    "########################################\n",
    "def evaluate(model, loader):\n",
    "    model.eval()\n",
    "    y_true, y_pred = [], []\n",
    "    with torch.no_grad():\n",
    "        for images, targets in loader:\n",
    "            images, targets = images.to(device), targets.float().to(device)\n",
    "            outputs = model(images)\n",
    "            y_true.append(targets.cpu().numpy())\n",
    "            y_pred.append(outputs.cpu().numpy())\n",
    "    y_true = np.vstack(y_true)\n",
    "    y_pred = np.vstack(y_pred)\n",
    "\n",
    "    # ROC AUC (macro average)\n",
    "    roc_auc = roc_auc_score(y_true, y_pred, average=\"macro\")\n",
    "\n",
    "    # Confusion matrix (per class, threshold at 0.5)\n",
    "    y_pred_binary = (y_pred > 0.5).astype(int)\n",
    "    cm = multilabel_confusion_matrix(y_true, y_pred_binary)\n",
    "\n",
    "    return roc_auc, cm, y_true, y_pred\n"
   ]
  },
  {
   "cell_type": "code",
   "execution_count": 18,
   "id": "59fc6b5e",
   "metadata": {},
   "outputs": [
    {
     "name": "stdout",
     "output_type": "stream",
     "text": [
      "Epoch 1/2 - Loss: 0.1607 - Val ROC AUC: 0.9571\n",
      "Epoch 2/2 - Loss: 0.1237 - Val ROC AUC: 0.9602\n"
     ]
    }
   ],
   "source": [
    "########################################\n",
    "# 8. Run Training\n",
    "########################################\n",
    "for epoch in range(EPOCHS):\n",
    "    loss = train_one_epoch(model, train_loader, optimizer, criterion)\n",
    "    roc_auc, cm, y_true, y_pred = evaluate(model, val_loader)\n",
    "    print(f\"Epoch {epoch+1}/{EPOCHS} - Loss: {loss:.4f} - Val ROC AUC: {roc_auc:.4f}\")"
   ]
  },
  {
   "cell_type": "code",
   "execution_count": 19,
   "id": "7530daef",
   "metadata": {},
   "outputs": [
    {
     "data": {
      "image/png": "[encoded data removed]",
      "text/plain": [
       "<Figure size 640x480 with 1 Axes>"
      ]
     },
     "metadata": {},
     "output_type": "display_data"
    }
   ],
   "source": [
    "########################################\n",
    "# 9. Plot ROC Curve for one class (example: 'person')\n",
    "########################################\n",
    "cls_idx = 14  # index of 'person'\n",
    "fpr, tpr, _ = roc_curve(y_true[:, cls_idx], y_pred[:, cls_idx])\n",
    "roc_auc = auc(fpr, tpr)\n",
    "\n",
    "plt.plot(fpr, tpr, label=f\"Person (AUC = {roc_auc:.2f})\")\n",
    "plt.plot([0,1],[0,1],'--')\n",
    "plt.xlabel(\"False Positive Rate\")\n",
    "plt.ylabel(\"True Positive Rate\")\n",
    "plt.legend()\n",
    "plt.show()"
   ]
  }
 ],
 "metadata": {
  "kernelspec": {
   "display_name": "pascalvoc",
   "language": "python",
   "name": "python3"
  },
  "language_info": {
   "codemirror_mode": {
    "name": "ipython",
    "version": 3
   },
   "file_extension": ".py",
   "mimetype": "text/x-python",
   "name": "python",
   "nbconvert_exporter": "python",
   "pygments_lexer": "ipython3",
   "version": "3.10.18"
  }
 },
 "nbformat": 4,
 "nbformat_minor": 5
}
